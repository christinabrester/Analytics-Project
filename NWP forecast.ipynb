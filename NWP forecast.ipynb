{
 "cells": [
  {
   "cell_type": "markdown",
   "metadata": {},
   "source": [
    "________\n",
    "A notebook for visualizing NWP data and solar PV forecasts. \n",
    "________"
   ]
  },
  {
   "cell_type": "code",
   "execution_count": 26,
   "metadata": {},
   "outputs": [],
   "source": [
    "import pandas as pd\n",
    "import numpy as np"
   ]
  },
  {
   "cell_type": "code",
   "execution_count": 2,
   "metadata": {},
   "outputs": [],
   "source": [
    "house_M = pd.read_excel(\"house M 5 min production.xlsx\")\n",
    "melania = pd.read_excel(\"melania 5 min production.xlsx\")"
   ]
  },
  {
   "cell_type": "code",
   "execution_count": 3,
   "metadata": {},
   "outputs": [],
   "source": [
    "START_DATE = '2020-05-05 00:00'\n",
    "END_DATE = '2020-11-05 00:00'"
   ]
  },
  {
   "cell_type": "code",
   "execution_count": 4,
   "metadata": {},
   "outputs": [],
   "source": [
    "# Apply rolling average and pick data from the end of every hour\n",
    "# Select a time interval\n",
    "\n",
    "def rolling_average_per_hour_interval(df):\n",
    "    \n",
    "    df['UTC'] = pd.to_datetime(df['UTC'])\n",
    "\n",
    "    df_rolling_mean = df.loc[:, ['UTC', 'power [W]']].set_index('UTC').rolling('1h', min_periods = 1).mean()\n",
    "    df_rolling_mean['UTC'] = df_rolling_mean.index\n",
    "    df_rolling_mean = df_rolling_mean.reset_index(drop=True)\n",
    "               \n",
    "    for i in range(df_rolling_mean.shape[0]):\n",
    "        if df_rolling_mean.UTC[i].hour == 1 and df_rolling_mean.UTC[i].minute == df_rolling_mean.UTC[i].second == 0:\n",
    "            index_start = i\n",
    "            break\n",
    "            \n",
    "                \n",
    "    for i in range(df_rolling_mean.shape[0]-1, -1, -1):\n",
    "        if df_rolling_mean.UTC[i].hour == df_rolling_mean.UTC[i].minute == df_rolling_mean.UTC[i].second == 0:\n",
    "            index_stop = i\n",
    "            break\n",
    "            \n",
    "    return df_rolling_mean.iloc[index_start:(index_stop+1)][::12].reset_index(drop = True)"
   ]
  },
  {
   "cell_type": "code",
   "execution_count": 5,
   "metadata": {},
   "outputs": [],
   "source": [
    "house_M_hourly = rolling_average_per_hour_interval(house_M)\n",
    "melania_hourly = rolling_average_per_hour_interval(melania)"
   ]
  },
  {
   "cell_type": "code",
   "execution_count": 6,
   "metadata": {},
   "outputs": [],
   "source": [
    "import datetime\n",
    "from suntime import Sun\n",
    "\n",
    "def get_sunrise_sunset(df, latitude, longitude):\n",
    "    \n",
    "    period_start = df.loc[:, 'UTC'].iloc[0]\n",
    "    year_start, month_start, day_start = period_start.year, period_start.month, period_start.day\n",
    "\n",
    "    period_end = df.loc[:, 'UTC'].iloc[df.shape[0]-1]\n",
    "    year_end, month_end, day_end = period_end.year, period_end.month, period_end.day\n",
    "    \n",
    "    all_timestamps_utc = pd.date_range(start = datetime.date(year_start, month_start, day_start), \n",
    "                                   end = datetime.date(year_end, month_end, day_end), freq=\"1D\")\n",
    "    \n",
    "    sun = Sun(latitude, longitude)\n",
    "    sunrises_sunsets = dict()\n",
    "    \n",
    "    for day in all_timestamps_utc:\n",
    "        sunrises_sunsets[day.strftime('%Y-%m-%d %H:%M:%S').split()[0]] = {\n",
    "                                                                            'sunrise': sun.get_sunrise_time(day).strftime('%Y-%m-%d %H:%M:%S'),\n",
    "                                                                            'sunset': sun.get_sunset_time(day).strftime('%Y-%m-%d %H:%M:%S')\n",
    "                                                                        }\n",
    "\n",
    "    return sunrises_sunsets"
   ]
  },
  {
   "cell_type": "code",
   "execution_count": 7,
   "metadata": {},
   "outputs": [],
   "source": [
    "latitude_Vuorela, longitude_Vuorela = 62.97999, 27.64920\n",
    "sunrises_sunsets_Vuorela = get_sunrise_sunset(house_M_hourly, latitude_Vuorela, longitude_Vuorela)\n",
    "\n",
    "latitude_Savilahti, longitude_Savilahti = 62.89216, 27.63362\n",
    "sunrises_sunsets_Savilahti = get_sunrise_sunset(melania_hourly, latitude_Savilahti, longitude_Savilahti)"
   ]
  },
  {
   "cell_type": "code",
   "execution_count": 8,
   "metadata": {},
   "outputs": [],
   "source": [
    "def check_sun(x, sunrises_sunsets):\n",
    "    '''\n",
    "    Check if a timestamp between sunrise and sunset\n",
    "    '''\n",
    "    if (x >= pd.to_datetime(sunrises_sunsets[x.strftime('%Y-%m-%d %H:%M:%S').split()[0]]['sunrise']) and \n",
    "        x <= pd.to_datetime(sunrises_sunsets[x.strftime('%Y-%m-%d %H:%M:%S').split()[0]]['sunset'])):\n",
    "        return 1\n",
    "    else:\n",
    "        return 0\n",
    "\n",
    "def add_zeros_night(df, sunrise_sunset, col):\n",
    "    \n",
    "    df['sun is up'] = df.UTC.apply(lambda x: check_sun(x, sunrise_sunset))\n",
    "    df.loc[df[col].isna() & (df['sun is up'] == 0), col] = 0"
   ]
  },
  {
   "cell_type": "code",
   "execution_count": 9,
   "metadata": {},
   "outputs": [],
   "source": [
    "add_zeros_night(house_M_hourly, sunrises_sunsets_Vuorela, 'power [W]')\n",
    "add_zeros_night(melania_hourly, sunrises_sunsets_Savilahti, 'power [W]')"
   ]
  },
  {
   "cell_type": "markdown",
   "metadata": {},
   "source": [
    "____________________________________\n",
    "Read forecast from FMI for Vuorela\n",
    "____________________________________"
   ]
  },
  {
   "cell_type": "code",
   "execution_count": 10,
   "metadata": {},
   "outputs": [],
   "source": [
    "import sys\n",
    "import glob\n",
    "\n",
    "# Bank 1\n",
    "pv_forecast_vuorela_1 = pd.DataFrame()\n",
    "\n",
    "for file in glob.glob(\"./Vuorela_1/*.csv\"):\n",
    "    pv_forecast = pd.read_csv(file, infer_datetime_format=True, parse_dates=[\"time\"])\n",
    "    if list(pv_forecast['time'].dt.hour.values) == [20, 21, 22, 23,  0,  1,  2,  3,  4,  5,  6,  7,  8,  9, 10, 11, 12,\n",
    "                                                   13, 14, 15, 16, 17, 18, 19, 20, 21, 22, 23, 0]:\n",
    "        mask = [False]*5 + [True]*24\n",
    "        \n",
    "        pv_forecast_vuorela_1 = pd.concat([pv_forecast_vuorela_1, pv_forecast.loc[mask, :]], ignore_index=True)\n",
    "        \n",
    "    else:\n",
    "        print(\"Diffent hours in the file:\")\n",
    "        print(file)"
   ]
  },
  {
   "cell_type": "raw",
   "metadata": {},
   "source": [
    "all_timestamps_utc = pd.date_range(start = pv_forecast_vuorela_1.loc[:, 'time'].iloc[0],\n",
    "                                   end = pv_forecast_vuorela_1.loc[:, 'time'].iloc[pv_forecast_vuorela_1.shape[0]-1], freq=\"1h\")\n",
    "\n",
    "# Missing measurements\n",
    "missing_hours = set(all_timestamps_utc.astype(str)) - set(pv_forecast_vuorela_1['time'].astype(str).values)\n",
    "\n",
    "#------------------------------------------\n",
    "# !!! 2020-01-11 is missing in the forecast\n",
    "#------------------------------------------"
   ]
  },
  {
   "cell_type": "code",
   "execution_count": 11,
   "metadata": {},
   "outputs": [],
   "source": [
    "# Bank 2\n",
    "pv_forecast_vuorela_2 = pd.DataFrame()\n",
    "\n",
    "for file in glob.glob(\"./Vuorela_2/*.csv\"):\n",
    "    pv_forecast = pd.read_csv(file, infer_datetime_format=True, parse_dates=[\"time\"])\n",
    "    if list(pv_forecast['time'].dt.hour.values) == [20, 21, 22, 23,  0,  1,  2,  3,  4,  5,  6,  7,  8,  9, 10, 11, 12,\n",
    "                                                   13, 14, 15, 16, 17, 18, 19, 20, 21, 22, 23, 0]:\n",
    "        mask = [False]*5 + [True]*24\n",
    "        \n",
    "        pv_forecast_vuorela_2 = pd.concat([pv_forecast_vuorela_2, pv_forecast.loc[mask, :]], ignore_index=True)\n",
    "        \n",
    "    else:\n",
    "        print(\"Diffent hours in the file:\")\n",
    "        print(file)"
   ]
  },
  {
   "cell_type": "raw",
   "metadata": {},
   "source": [
    "all_timestamps_utc = pd.date_range(start = pv_forecast_vuorela_2.loc[:, 'time'].iloc[0],\n",
    "                                   end = pv_forecast_vuorela_2.loc[:, 'time'].iloc[pv_forecast_vuorela_2.shape[0]-1], freq=\"1h\")\n",
    "\n",
    "# Missing measurements\n",
    "missing_hours = set(all_timestamps_utc.astype(str)) - set(pv_forecast_vuorela_2['time'].astype(str).values)\n",
    "\n",
    "#------------------------------------------\n",
    "# !!! 2020-01-11 is missing in the forecast\n",
    "#------------------------------------------"
   ]
  },
  {
   "cell_type": "code",
   "execution_count": 12,
   "metadata": {},
   "outputs": [],
   "source": [
    "# Combine two banks\n",
    "pv_forecast_vuorela = pv_forecast_vuorela_1.copy()\n",
    "pv_forecast_vuorela['UTC'] = pv_forecast_vuorela_1['time']\n",
    "pv_forecast_vuorela['forecast fmi [W]'] = pv_forecast_vuorela_1['pv_po'] + pv_forecast_vuorela_2['pv_po']\n",
    "pv_forecast_vuorela.reset_index(drop = True, inplace = True)"
   ]
  },
  {
   "cell_type": "markdown",
   "metadata": {},
   "source": [
    "____________________________________\n",
    "Read forecast from FMI for Savilahti\n",
    "____________________________________"
   ]
  },
  {
   "cell_type": "code",
   "execution_count": 13,
   "metadata": {},
   "outputs": [],
   "source": [
    "import sys\n",
    "import glob\n",
    "\n",
    "pv_forecast_savilahti = pd.DataFrame()\n",
    "\n",
    "for file in glob.glob(\"./Savilahti/*.csv\"):\n",
    "    pv_forecast = pd.read_csv(file, infer_datetime_format=True, parse_dates=[\"time\"])\n",
    "    if list(pv_forecast['time'].dt.hour.values) == [20, 21, 22, 23,  0,  1,  2,  3,  4,  5,  6,  7,  8,  9, 10, 11, 12,\n",
    "                                                   13, 14, 15, 16, 17, 18, 19, 20, 21, 22, 23, 0]:\n",
    "        mask = [False]*5 + [True]*24\n",
    "        \n",
    "        pv_forecast_savilahti = pd.concat([pv_forecast_savilahti, pv_forecast.loc[mask, :]], ignore_index=True)\n",
    "        \n",
    "    else:\n",
    "        print(\"Diffent hours in the file:\")\n",
    "        print(file)"
   ]
  },
  {
   "cell_type": "raw",
   "metadata": {},
   "source": [
    "all_timestamps_utc = pd.date_range(start = pv_forecast_savilahti.loc[:, 'time'].iloc[0],\n",
    "                                   end = pv_forecast_savilahti.loc[:, 'time'].iloc[pv_forecast_savilahti.shape[0]-1], freq=\"1h\")\n",
    "\n",
    "# Missing measurements\n",
    "missing_hours = set(all_timestamps_utc.astype(str)) - set(pv_forecast_savilahti['time'].astype(str).values)\n",
    "\n",
    "#------------------------------------------\n",
    "# !!! 2020-01-11 is missing in the forecast\n",
    "#------------------------------------------"
   ]
  },
  {
   "cell_type": "code",
   "execution_count": 14,
   "metadata": {},
   "outputs": [],
   "source": [
    "pv_forecast_savilahti['UTC'] = pv_forecast_savilahti['time']\n",
    "pv_forecast_savilahti['forecast fmi [W]'] = pv_forecast_savilahti['pv_po']"
   ]
  },
  {
   "cell_type": "code",
   "execution_count": 16,
   "metadata": {},
   "outputs": [],
   "source": [
    "latitude_Vuorela, longitude_Vuorela = 62.97999, 27.64920\n",
    "sunrises_sunsets_Vuorela = get_sunrise_sunset(pv_forecast_vuorela, latitude_Vuorela, longitude_Vuorela)\n",
    "\n",
    "latitude_Savilahti, longitude_Savilahti = 62.89216, 27.63362\n",
    "sunrises_sunsets_Savilahti = get_sunrise_sunset(pv_forecast_savilahti, latitude_Savilahti, longitude_Savilahti)"
   ]
  },
  {
   "cell_type": "code",
   "execution_count": 17,
   "metadata": {},
   "outputs": [],
   "source": [
    "add_zeros_night(pv_forecast_vuorela, sunrises_sunsets_Vuorela, 'forecast fmi [W]')\n",
    "add_zeros_night(pv_forecast_savilahti, sunrises_sunsets_Savilahti, 'forecast fmi [W]')"
   ]
  },
  {
   "cell_type": "code",
   "execution_count": 19,
   "metadata": {},
   "outputs": [],
   "source": [
    "pv_forecast_vuorela['wind_dir_cos'] = np.cos(pv_forecast_vuorela['wind_dir']*2*np.pi/360)\n",
    "pv_forecast_vuorela['wind_dir_sin'] = np.sin(pv_forecast_vuorela['wind_dir']*2*np.pi/360)\n",
    "\n",
    "pv_forecast_savilahti['wind_dir_cos'] = np.cos(pv_forecast_savilahti['wind_dir']*2*np.pi/360)\n",
    "pv_forecast_savilahti['wind_dir_sin'] = np.sin(pv_forecast_savilahti['wind_dir']*2*np.pi/360)"
   ]
  },
  {
   "cell_type": "code",
   "execution_count": 20,
   "metadata": {},
   "outputs": [],
   "source": [
    "house_M_hourly = pd.concat([pv_forecast_vuorela.set_index('UTC'),\n",
    "                            house_M_hourly.set_index('UTC')], axis=1).reset_index(drop=False)\n",
    "melania_hourly = pd.concat([pv_forecast_savilahti.set_index('UTC'),\n",
    "                            melania_hourly.set_index('UTC')], axis=1).reset_index(drop=False)"
   ]
  },
  {
   "cell_type": "code",
   "execution_count": 21,
   "metadata": {},
   "outputs": [],
   "source": [
    "class Site:\n",
    "    def __init__(self, **kwargs):\n",
    "        self.__name = kwargs.get('name', [])\n",
    "        self.__dates = kwargs.get('dates', [])\n",
    "        self.__power_measured = kwargs.get('power_measured', [])\n",
    "        self.__power_forecast_fmi = kwargs.get('power_forecast_fmi', [])\n",
    "        self.__predictors_forecast_fmi = kwargs.get('predictors_forecast_fmi', pd.DataFrame())\n",
    "        #self.__power_predicted = None\n",
    "        \n",
    "    @property\n",
    "    def name(self):\n",
    "        return self.__name\n",
    "    \n",
    "    @name.setter\n",
    "    def name(self, name):\n",
    "        self.__name = name\n",
    "        \n",
    "    @property\n",
    "    def dates(self):\n",
    "        return self.__dates\n",
    "    \n",
    "    @dates.setter\n",
    "    def dates(self, dates):\n",
    "        self.__dates = dates\n",
    "    \n",
    "    @property\n",
    "    def power_measured(self):\n",
    "        return self.__power_measured\n",
    "    \n",
    "    @power_measured.setter\n",
    "    def power_measured(self, power_measured):\n",
    "        self.__power_measured = power_measured   \n",
    "    \n",
    "    @property\n",
    "    def power_forecast_fmi(self):\n",
    "        return self.__power_forecast_fmi\n",
    "    \n",
    "    @power_forecast_fmi.setter\n",
    "    def power_forecast_fmi(self, power_forecast_fmi):\n",
    "        self.__power_forecast_fmi = power_forecast_fmi\n",
    "        \n",
    "    @property\n",
    "    def predictors_forecast_fmi(self):\n",
    "        return self.__predictors_forecast_fmi\n",
    "    \n",
    "    @predictors_forecast_fmi.setter\n",
    "    def predictors_forecast_fmi(self, predictors_forecast_fmi):\n",
    "        self.__predictors_forecast_fmi = predictors_forecast_fmi"
   ]
  },
  {
   "cell_type": "code",
   "execution_count": 22,
   "metadata": {},
   "outputs": [],
   "source": [
    "class SiteInBokeh:\n",
    "    def __init__(self):\n",
    "        pass\n",
    "    \n",
    "    def name(self, Site):\n",
    "        return Site.name\n",
    "    \n",
    "    def source_outputs(self, Site):\n",
    "        return ColumnDataSource(data = {\n",
    "                                    'UTC': Site.dates,\n",
    "                                    'Measured [W]': Site.power_measured,\n",
    "                                    'Forecast FMI [W]': Site.power_forecast_fmi,\n",
    "                                  })\n",
    "    \n",
    "    def source_predictors(self, Site):\n",
    "        return ColumnDataSource(data = Site.predictors_forecast_fmi)\n",
    "    \n",
    "    def x_range(self, Site):\n",
    "        return (pd.to_datetime(Site.dates[0], format = '%Y-%m-%d'), \n",
    "               pd.to_datetime(Site.dates[len(Site.dates)-1], format = '%Y-%m-%d'))\n",
    "\n",
    "    def data_table(self, Site):\n",
    "        columns = [\n",
    "                    TableColumn(field='UTC', title='UTC', formatter=DateFormatter(format=\"%m/%d/%Y %H:%M\")),\n",
    "                    TableColumn(field='Measured [W]', title='Measured [W]', formatter=NumberFormatter(format=\"0,0.00\")),\n",
    "                    TableColumn(field='Forecast FMI [W]', title='Forecast FMI [W]', formatter=NumberFormatter(format=\"0,0.00\"))\n",
    "                  ]\n",
    "        return DataTable(source=self.source_outputs(Site), columns = columns, width=500, height = 300)\n",
    "\n",
    "    def source_group(self, Site, group):\n",
    "        df = pd.DataFrame({\n",
    "                            'UTC': Site.dates,\n",
    "                            'Measured [W]': Site.power_measured,\n",
    "                            'Forecast FMI [W]': Site.power_forecast_fmi,\n",
    "                           })\n",
    "\n",
    "        df = pd.melt(df, id_vars=['UTC'], value_vars=['Measured [W]', 'Forecast FMI [W]'], var_name='group', value_name='Power [W]')\n",
    "\n",
    "        df_group = df.loc[df.group == group]\n",
    "        return ColumnDataSource(data = df_group)"
   ]
  },
  {
   "cell_type": "code",
   "execution_count": 23,
   "metadata": {},
   "outputs": [],
   "source": [
    "predictors = ['UTC', 's_glob', 's_dif', 'T_AVG', 'wind_avg', 'wind_dir_cos', 'wind_dir_sin', 'albedo', 'prec_amt', 'cl_tot', 'cl_low', 'cl_med', 'cl_high']\n",
    "\n",
    "vuorela_site = Site(name = 'Vuorela (a private house)',\n",
    "                   dates=house_M_hourly['UTC'].values,\n",
    "                   power_measured=house_M_hourly['power [W]'].values,\n",
    "                   power_forecast_fmi=house_M_hourly['forecast fmi [W]'].values,\n",
    "                   predictors_forecast_fmi = pv_forecast_vuorela.loc[:, predictors])\n",
    "\n",
    "savilahti_site = Site(name = 'Savilahti (Melania)',\n",
    "                   dates=melania_hourly['UTC'].values,\n",
    "                   power_measured=melania_hourly['power [W]'].values,\n",
    "                   power_forecast_fmi=melania_hourly['forecast fmi [W]'].values,\n",
    "                   predictors_forecast_fmi = pv_forecast_savilahti.loc[:, predictors])"
   ]
  },
  {
   "cell_type": "code",
   "execution_count": 24,
   "metadata": {},
   "outputs": [],
   "source": [
    "from bokeh.layouts import gridplot\n",
    "\n",
    "def build_line(source_predictors, predictor):\n",
    "    \n",
    "    p = figure(plot_width=350, plot_height=300, x_axis_type='datetime', title = predictor,\n",
    "                    tools = 'reset,wheel_zoom,box_zoom,pan,save')\n",
    "        \n",
    "    p.line(x='UTC', y=predictor, source=source_predictors, line_width=2, color=\"gray\", alpha=0.75)\n",
    "\n",
    "    hover_tool = HoverTool(tooltips=[('UTC', '@UTC{%Y-%m-%d %H:%M}'), (predictor, '@{0}'.format(predictor))],\n",
    "                           formatters={'@UTC': 'datetime'},)\n",
    "    p.add_tools(hover_tool)\n",
    "    box = BoxAnnotation(left=datetime.datetime(2020, 5, 5), right = datetime.datetime(2020, 11, 5), fill_alpha=0.1, fill_color='green')\n",
    "    p.add_layout(box)\n",
    "    \n",
    "    \n",
    "    return p\n",
    "        \n",
    "\n",
    "def build_predictors(source_predictors, predictors, ncols):\n",
    "   \n",
    "    p = []\n",
    "    for predictor in predictors[1:]:\n",
    "        p.append(build_line(source_predictors, predictor))\n",
    "        \n",
    "    return gridplot(p, ncols=ncols)\n",
    "        \n",
    "    \n",
    "    "
   ]
  },
  {
   "cell_type": "code",
   "execution_count": 25,
   "metadata": {},
   "outputs": [],
   "source": [
    "from bokeh.models.widgets import Panel, Tabs\n",
    "from bokeh.io import output_file, show\n",
    "from bokeh.plotting import figure\n",
    "from bokeh.models import FixedTicker, HoverTool, DataTable\n",
    "from bokeh.layouts import layout\n",
    "from bokeh.models import ColumnDataSource, TableColumn, NumberFormatter, DateFormatter, BoxAnnotation\n",
    "import datetime\n",
    "\n",
    "def build_dashboard(sites, predictors):\n",
    "    \n",
    "    tabs = []\n",
    "    \n",
    "    for site in sites:\n",
    "    \n",
    "        site_in_bokeh = SiteInBokeh()\n",
    "        source_outputs = site_in_bokeh.source_outputs(site)\n",
    "        data_table = site_in_bokeh.data_table(site)\n",
    "        source_group_1 = site_in_bokeh.source_group(site, 'Measured [W]')\n",
    "        source_group_2 = site_in_bokeh.source_group(site, 'Forecast FMI [W]')\n",
    "        x_range = site_in_bokeh.x_range(site)\n",
    "        source_predictors = site_in_bokeh.source_predictors(site)\n",
    "        \n",
    "        p = figure(plot_width=1000, plot_height=300, x_axis_type='datetime', title = 'Power [W]',\n",
    "                    x_range = x_range, tools = 'reset,wheel_zoom,box_zoom,pan,save')\n",
    "        \n",
    "        p.line(x='UTC', y='Power [W]', source=source_group_1, line_width=2, color=\"brown\", legend_label='Measured', alpha=0.25)\n",
    "        p.line(x='UTC', y='Power [W]', source=source_group_2, line_width=2, color=\"navy\", legend_label='Forecast FMI', alpha=0.25)\n",
    "\n",
    "        hover_tool = HoverTool(tooltips=[('Name','@group'), ('UTC', '@UTC{%Y-%m-%d %H:%M}'), ('Power [W]', '@{Power [W]}{0,0.00}')],\n",
    "                               formatters={'@UTC': 'datetime'},)\n",
    "        p.add_tools(hover_tool)\n",
    "        box = BoxAnnotation(left=datetime.datetime(2020, 5, 5), right = datetime.datetime(2020, 11, 5), fill_alpha=0.1, fill_color='green')\n",
    "        p.add_layout(box)\n",
    "        \n",
    "        ncols = 4\n",
    "        predictors_plots = build_predictors(source_predictors, predictors, ncols)\n",
    "        \n",
    "        tab = Panel(child=layout([[p, data_table], [predictors_plots]]), title=site.name)\n",
    "        tabs.append(tab)\n",
    "        \n",
    "    return Tabs(tabs=tabs)\n",
    "\n",
    "output_file(\"measured_power_vs_forecast_fmi_plus_predictors.html\", mode='inline')\n",
    "show(build_dashboard([vuorela_site, savilahti_site], predictors))"
   ]
  },
  {
   "cell_type": "code",
   "execution_count": null,
   "metadata": {},
   "outputs": [],
   "source": []
  },
  {
   "cell_type": "code",
   "execution_count": null,
   "metadata": {},
   "outputs": [],
   "source": []
  },
  {
   "cell_type": "code",
   "execution_count": null,
   "metadata": {},
   "outputs": [],
   "source": []
  }
 ],
 "metadata": {
  "kernelspec": {
   "display_name": "Python 3",
   "language": "python",
   "name": "python3"
  },
  "language_info": {
   "codemirror_mode": {
    "name": "ipython",
    "version": 3
   },
   "file_extension": ".py",
   "mimetype": "text/x-python",
   "name": "python",
   "nbconvert_exporter": "python",
   "pygments_lexer": "ipython3",
   "version": "3.6.8"
  }
 },
 "nbformat": 4,
 "nbformat_minor": 4
}
